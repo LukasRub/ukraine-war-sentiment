{
 "cells": [
  {
   "cell_type": "code",
   "execution_count": 2,
   "id": "687abd3a",
   "metadata": {},
   "outputs": [],
   "source": [
    "from datetime import datetime, timezone\n",
    "import pandas as pd"
   ]
  },
  {
   "cell_type": "code",
   "execution_count": 3,
   "id": "ef79e8ae",
   "metadata": {},
   "outputs": [],
   "source": [
    "def get_date_range(start, end):\n",
    "    return pd.date_range(start, end, tz=timezone.utc)"
   ]
  },
  {
   "cell_type": "code",
   "execution_count": 14,
   "id": "ed5bdb10",
   "metadata": {},
   "outputs": [
    {
     "data": {
      "text/plain": [
       "DatetimeIndex(['2022-03-14 00:00:00+00:00', '2022-03-15 00:00:00+00:00',\n",
       "               '2022-03-16 00:00:00+00:00', '2022-03-17 00:00:00+00:00',\n",
       "               '2022-03-18 00:00:00+00:00', '2022-03-19 00:00:00+00:00',\n",
       "               '2022-03-20 00:00:00+00:00', '2022-03-21 00:00:00+00:00',\n",
       "               '2022-03-22 00:00:00+00:00', '2022-03-23 00:00:00+00:00',\n",
       "               '2022-03-24 00:00:00+00:00', '2022-03-25 00:00:00+00:00',\n",
       "               '2022-03-26 00:00:00+00:00', '2022-03-27 00:00:00+00:00',\n",
       "               '2022-03-28 00:00:00+00:00', '2022-03-29 00:00:00+00:00',\n",
       "               '2022-03-30 00:00:00+00:00', '2022-03-31 00:00:00+00:00',\n",
       "               '2022-04-01 00:00:00+00:00', '2022-04-02 00:00:00+00:00',\n",
       "               '2022-04-03 00:00:00+00:00', '2022-04-04 00:00:00+00:00',\n",
       "               '2022-04-05 00:00:00+00:00', '2022-04-06 00:00:00+00:00',\n",
       "               '2022-04-07 00:00:00+00:00', '2022-04-08 00:00:00+00:00',\n",
       "               '2022-04-09 00:00:00+00:00', '2022-04-10 00:00:00+00:00',\n",
       "               '2022-04-11 00:00:00+00:00', '2022-04-12 00:00:00+00:00',\n",
       "               '2022-04-13 00:00:00+00:00', '2022-04-14 00:00:00+00:00',\n",
       "               '2022-04-15 00:00:00+00:00', '2022-04-16 00:00:00+00:00',\n",
       "               '2022-04-17 00:00:00+00:00', '2022-04-18 00:00:00+00:00',\n",
       "               '2022-04-19 00:00:00+00:00', '2022-04-20 00:00:00+00:00',\n",
       "               '2022-04-21 00:00:00+00:00', '2022-04-22 00:00:00+00:00',\n",
       "               '2022-04-23 00:00:00+00:00', '2022-04-24 00:00:00+00:00',\n",
       "               '2022-04-25 00:00:00+00:00', '2022-04-26 00:00:00+00:00',\n",
       "               '2022-04-27 00:00:00+00:00', '2022-04-28 00:00:00+00:00',\n",
       "               '2022-04-29 00:00:00+00:00', '2022-04-30 00:00:00+00:00',\n",
       "               '2022-05-01 00:00:00+00:00', '2022-05-02 00:00:00+00:00',\n",
       "               '2022-05-03 00:00:00+00:00', '2022-05-04 00:00:00+00:00',\n",
       "               '2022-05-05 00:00:00+00:00', '2022-05-06 00:00:00+00:00',\n",
       "               '2022-05-07 00:00:00+00:00', '2022-05-08 00:00:00+00:00',\n",
       "               '2022-05-09 00:00:00+00:00', '2022-05-10 00:00:00+00:00',\n",
       "               '2022-05-11 00:00:00+00:00', '2022-05-12 00:00:00+00:00',\n",
       "               '2022-05-13 00:00:00+00:00', '2022-05-14 00:00:00+00:00'],\n",
       "              dtype='datetime64[ns, UTC]', freq='D')"
      ]
     },
     "execution_count": 14,
     "metadata": {},
     "output_type": "execute_result"
    }
   ],
   "source": [
    "after_datetime = datetime.fromisoformat(\"2022-03-14\").replace(tzinfo=timezone.utc)\n",
    "before_datetime = datetime.fromisoformat(\"2022-05-14\").replace(tzinfo=timezone.utc)\n",
    "\n",
    "date_range = pd.date_range(after_datetime, before_datetime, tz=timezone.utc)\n",
    "date_range"
   ]
  },
  {
   "cell_type": "code",
   "execution_count": 13,
   "id": "d9472ffc",
   "metadata": {},
   "outputs": [
    {
     "data": {
      "text/plain": [
       "DatetimeIndex(['2022-03-14 00:00:00+00:00', '2022-03-15 00:00:00+00:00'], dtype='datetime64[ns, UTC]', freq='D')"
      ]
     },
     "execution_count": 13,
     "metadata": {},
     "output_type": "execute_result"
    }
   ],
   "source": [
    "pd.date_range(after_datetime, periods=2, tz=timezone.utc)"
   ]
  },
  {
   "cell_type": "code",
   "execution_count": 10,
   "id": "39ec911d",
   "metadata": {},
   "outputs": [],
   "source": [
    "?pd.date_range"
   ]
  },
  {
   "cell_type": "code",
   "execution_count": 19,
   "id": "db6f4eba",
   "metadata": {},
   "outputs": [
    {
     "name": "stdout",
     "output_type": "stream",
     "text": [
      "bbb test\n"
     ]
    }
   ],
   "source": [
    "TEST=\"test\"\n",
    "\n",
    "def a(test=TEST):\n",
    "    test=\"bbb\"\n",
    "    print(test, TEST)\n",
    "    \n",
    "a()"
   ]
  },
  {
   "cell_type": "code",
   "execution_count": null,
   "id": "e63eeaa1",
   "metadata": {},
   "outputs": [],
   "source": []
  }
 ],
 "metadata": {
  "kernelspec": {
   "display_name": "Python 3 (ipykernel)",
   "language": "python",
   "name": "python3"
  },
  "language_info": {
   "codemirror_mode": {
    "name": "ipython",
    "version": 3
   },
   "file_extension": ".py",
   "mimetype": "text/x-python",
   "name": "python",
   "nbconvert_exporter": "python",
   "pygments_lexer": "ipython3",
   "version": "3.10.6"
  }
 },
 "nbformat": 4,
 "nbformat_minor": 5
}
